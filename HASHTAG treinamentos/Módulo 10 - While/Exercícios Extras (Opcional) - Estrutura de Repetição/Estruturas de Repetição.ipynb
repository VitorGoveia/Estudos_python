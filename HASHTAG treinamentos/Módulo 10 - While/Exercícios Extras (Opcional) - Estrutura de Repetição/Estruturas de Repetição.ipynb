{
 "cells": [
  {
   "cell_type": "markdown",
   "id": "ac60394f",
   "metadata": {
    "id": "ac60394f"
   },
   "source": [
    "# Estruturas de repetição\n",
    "\n",
    "<span style=\"color: red;\"><b>Todos os exercícios são feitos partindo-se do pressuposto de que todas as entradas são dadas de forma correta. Casos limite não mencionados no enunciado não são abordados porque não fazem parte do exercício.</b></span>"
   ]
  },
  {
   "cell_type": "markdown",
   "id": "017affd0",
   "metadata": {
    "id": "017affd0"
   },
   "source": [
    "#### 1. Faça um programa que peça uma nota, entre zero e dez. Mostre uma mensagem caso o valor seja inválido e continue pedindo até que o usuário informe um valor válido."
   ]
  },
  {
   "cell_type": "code",
   "execution_count": null,
   "id": "5f12870d",
   "metadata": {
    "id": "5f12870d"
   },
   "outputs": [
    {
     "name": "stdout",
     "output_type": "stream",
     "text": [
      "Nota não está entre 0 e 10, digite novamente!\n",
      "Nota não está entre 0 e 10, digite novamente!\n",
      "Nota não está entre 0 e 10, digite novamente!\n",
      "10\n"
     ]
    }
   ],
   "source": [
    "while True:\n",
    "    nota = int(input(\"Digite uma nota de 0 a 10\"))\n",
    "    if (0 <= nota <= 10):\n",
    "        break\n",
    "    print(\"Nota não está entre 0 e 10, digite novamente!\")\n",
    "\n",
    "print(nota)"
   ]
  },
  {
   "cell_type": "markdown",
   "id": "dd0c6d56",
   "metadata": {
    "id": "dd0c6d56"
   },
   "source": [
    "#### 2. Faça um programa que leia um nome de usuário e a sua senha e não aceite a senha igual ao nome do usuário, mostrando uma mensagem de erro e voltando a pedir as informações."
   ]
  },
  {
   "cell_type": "code",
   "execution_count": 2,
   "id": "f6579866",
   "metadata": {
    "id": "f6579866"
   },
   "outputs": [
    {
     "name": "stdout",
     "output_type": "stream",
     "text": [
      "Senha e nome não podem ser o mesmo\n",
      "Nome: Vitor, Senha: Pao\n"
     ]
    }
   ],
   "source": [
    "nome = input(\"Digite o seu nome: \")\n",
    "\n",
    "while True:\n",
    "    senha = input(\"Digite a sua senha: \")\n",
    "    if senha != nome:\n",
    "        break\n",
    "    print(\"Senha e nome não podem ser o mesmo\")\n",
    "\n",
    "print(f\"Nome: {nome}, Senha: {senha}\")"
   ]
  },
  {
   "cell_type": "markdown",
   "id": "ed113a82",
   "metadata": {
    "id": "ed113a82"
   },
   "source": [
    "#### 3. Faça um programa que leia e valide as seguintes informações (e para cada uma delas, continue pedindo a informação até o usuário inserir corretamente):\n",
    "##### Nome: maior que 3 caracteres;\n",
    "##### Idade: entre 0 e 150;\n",
    "##### Salário: maior que zero;\n",
    "##### Sexo: 'f' ou 'm';\n",
    "##### Estado Civil: 's', 'c', 'v', 'd';"
   ]
  },
  {
   "cell_type": "code",
   "execution_count": 3,
   "id": "3284f187",
   "metadata": {
    "id": "3284f187"
   },
   "outputs": [
    {
     "name": "stdout",
     "output_type": "stream",
     "text": [
      "Nome tem que ser maior do que 3 caracteres!\n",
      "Idade deve estar entre 0 e 150 anos\n",
      "Salario deve ser maior do que 0\n",
      "Sexe deve ser 'f' ou 'm'\n",
      "Sexe deve ser 's','c','v' ou 'd'\n",
      "Lari\n",
      "19\n",
      "10.0\n",
      "f\n",
      "s\n"
     ]
    }
   ],
   "source": [
    "while True:\n",
    "    nome = input(\"Digite seu nome: \")\n",
    "    if len(nome) > 3:\n",
    "        break\n",
    "    print(\"Nome tem que ser maior do que 3 caracteres!\")\n",
    "\n",
    "while True:\n",
    "    idade = int(input(\"Digite a sua idade: \"))\n",
    "    if (0 <= idade <= 150):\n",
    "        break\n",
    "    print(\"Idade deve estar entre 0 e 150 anos\")\n",
    "\n",
    "while True:\n",
    "    salario = float(input(\"Digite o seu salário: \"))\n",
    "    if salario > 0:\n",
    "        break\n",
    "    print(\"Salario deve ser maior do que 0\")\n",
    "\n",
    "while True:\n",
    "    sexo = input(\"Digite o seu sexo: (f,m)\")\n",
    "    if sexo in ['f','m']:\n",
    "        break\n",
    "    print(\"Sexe deve ser 'f' ou 'm'\")\n",
    "\n",
    "while True:\n",
    "    estado = input(\"Digite o seu estado civil: (s,c,v,d)\")\n",
    "    if estado in ['s','c','v','d']:\n",
    "        break\n",
    "    print(\"Sexe deve ser 's','c','v' ou 'd'\")\n",
    "\n",
    "print(nome)\n",
    "print(idade)\n",
    "print(salario)\n",
    "print(sexo)\n",
    "print(estado) "
   ]
  },
  {
   "cell_type": "markdown",
   "id": "2f25dceb",
   "metadata": {
    "id": "2f25dceb"
   },
   "source": [
    "#### 4. Supondo que a população de um país A seja da ordem de 80000 habitantes com uma taxa anual de crescimento de 3% e que a população de B seja 200000 habitantes com uma taxa de crescimento de 1.5%. Faça um programa que calcule e escreva o número de anos necessários para que a população do país A ultrapasse ou iguale a população do país B, mantidas as taxas de crescimento."
   ]
  },
  {
   "cell_type": "code",
   "execution_count": 1,
   "id": "7ad0f5e9",
   "metadata": {
    "id": "7ad0f5e9"
   },
   "outputs": [
    {
     "name": "stdout",
     "output_type": "stream",
     "text": [
      "63\n"
     ]
    }
   ],
   "source": [
    "população_A = 80000\n",
    "população_B = 200000\n",
    "\n",
    "anos = 0\n",
    "\n",
    "while população_A < população_B:\n",
    "    população_A += população_A*0.03\n",
    "    população_B += população_B*0.015\n",
    "\n",
    "    anos += 1\n",
    "\n",
    "print(anos)"
   ]
  },
  {
   "cell_type": "markdown",
   "id": "e9626858",
   "metadata": {
    "id": "e9626858"
   },
   "source": [
    "#### 5. Altere o programa anterior permitindo ao usuário informar as populações e as taxas de crescimento iniciais. Valide a entrada e permita repetir a operação."
   ]
  },
  {
   "cell_type": "code",
   "execution_count": null,
   "id": "c7e250a4",
   "metadata": {
    "id": "c7e250a4"
   },
   "outputs": [
    {
     "name": "stdout",
     "output_type": "stream",
     "text": [
      "50\n"
     ]
    }
   ],
   "source": [
    "while True:    \n",
    "    população_A = int(input(\"Digite o tamanho da população menor:\"))\n",
    "    população_B = int(input(\"Digite o tamanho da população maior:\"))\n",
    "\n",
    "    if população_A > população_B:\n",
    "        print(\"Valores invertidos, ajustando\")\n",
    "        valor_guardar = população_B\n",
    "        população_B = população_A\n",
    "        população_A = valor_guardar\n",
    "\n",
    "    anos = 0\n",
    "\n",
    "    taxa_maior = float(input(\"Digite a taxa de crescimento maior:\"))\n",
    "    taxa_menor = float(input(\"Digite a taxa de crescimento menor:\"))\n",
    "\n",
    "    if taxa_maior < taxa_menor:\n",
    "        print(\"Valores de taxas invertidos, ajustando\")\n",
    "        valor_guardar = taxa_menor\n",
    "        taxa_menor = taxa_maior\n",
    "        taxa_maior = valor_guardar\n",
    "\n",
    "    while população_A < população_B:\n",
    "        população_A += população_A*taxa_maior\n",
    "        população_B += população_B*taxa_menor\n",
    "\n",
    "        anos += 1\n",
    "\n",
    "    print(f\"Serão precisos {anos} anos\")\n",
    "\n",
    "    continuar = input(\"Deseja continuar? (s/n)\")\n",
    "\n",
    "    if continuar == \"n\":\n",
    "        break"
   ]
  },
  {
   "cell_type": "markdown",
   "id": "b3d268b5",
   "metadata": {
    "id": "b3d268b5"
   },
   "source": [
    "#### 6. Faça um programa que peça para o usuário inserir o faturamento dos últimos 5 meses (individualmente) e informe o maior faturamento"
   ]
  },
  {
   "cell_type": "code",
   "execution_count": null,
   "id": "8078e7a5",
   "metadata": {
    "id": "8078e7a5"
   },
   "outputs": [
    {
     "name": "stdout",
     "output_type": "stream",
     "text": [
      "O maior valor foi: 20000.0\n"
     ]
    }
   ],
   "source": [
    "faturamento = []\n",
    "\n",
    "for i in range(5):\n",
    "    valor = float(input(f\"Digite o valor do faturamento do {i+1}° mês:\"))\n",
    "    faturamento.append(valor)\n",
    "\n",
    "print(f\"O maior valor foi: {max(faturamento):.2f}\")"
   ]
  },
  {
   "cell_type": "markdown",
   "id": "6407824c",
   "metadata": {
    "id": "6407824c"
   },
   "source": [
    "#### 7. Faça um programa que peça para o usuário inserir o faturamento dos últimos 5 meses (individualmente) e informe o faturamento total (soma) e o faturamento médio por mês (média)."
   ]
  },
  {
   "cell_type": "code",
   "execution_count": 2,
   "id": "a02320d1",
   "metadata": {
    "id": "a02320d1"
   },
   "outputs": [
    {
     "name": "stdout",
     "output_type": "stream",
     "text": [
      "O faturamento total foi: 555.00\n",
      "O faturamento medio foi: 111.00\n"
     ]
    }
   ],
   "source": [
    "faturamento = []\n",
    "\n",
    "for i in range(5):\n",
    "    valor = float(input(f\"Digite o valor do faturamento do {i+1}° mês:\"))\n",
    "    faturamento.append(valor)\n",
    "\n",
    "print(f\"O faturamento total foi: {sum(faturamento):.2f}\")\n",
    "print(f\"O faturamento medio foi: {sum(faturamento)/len(faturamento):.2f}\")"
   ]
  },
  {
   "cell_type": "markdown",
   "id": "703f3c4d",
   "metadata": {
    "id": "703f3c4d"
   },
   "source": [
    "#### 8. Faça um programa que consiga categorizar a idade das equipes de uma empresa. Faça um programa que peça para n pessoas a sua idade, ao final o programa devera verificar se a média de idade da equipe varia entre 0 e 25 (jovem) ,26 e 60 (sênior) e maior que 60 (idosa); e então, dizer se a equipe é jovem, sênior ou idosa, conforme a média calculada."
   ]
  },
  {
   "cell_type": "code",
   "execution_count": 8,
   "id": "b56a85de",
   "metadata": {
    "id": "b56a85de"
   },
   "outputs": [
    {
     "name": "stdout",
     "output_type": "stream",
     "text": [
      "Digite '0' para cancelar\n",
      "25.0\n",
      "Equipe é jovem\n"
     ]
    }
   ],
   "source": [
    "idade_funcionarios = []\n",
    "print(\"Digite '0' para cancelar\")\n",
    "while True:\n",
    "    nova_idade = int(input(\"Digite a idade do novo funcionário\"))\n",
    "    if nova_idade == 0:\n",
    "        break\n",
    "    idade_funcionarios.append(nova_idade)\n",
    "\n",
    "media = sum(idade_funcionarios)/len(idade_funcionarios)\n",
    "print(media)\n",
    "\n",
    "if 0 < media <= 25: \n",
    "    print(\"Equipe é jovem\")\n",
    "elif 25 < media <= 60:\n",
    "    print(\"Equipe é sênior\")\n",
    "elif media > 60:\n",
    "    print(\"Equipe é idosa\")\n",
    "else: \n",
    "    print(\"Valores desconhecidos\")"
   ]
  },
  {
   "cell_type": "markdown",
   "id": "aad21b98",
   "metadata": {
    "id": "aad21b98"
   },
   "source": [
    "#### 9. Numa eleição existem três candidatos. Faça um programa que peça o número total de eleitores. Peça para cada eleitor votar e ao final mostrar o número de votos de cada candidato."
   ]
  },
  {
   "cell_type": "code",
   "execution_count": 14,
   "id": "84aa7a93",
   "metadata": {
    "id": "84aa7a93"
   },
   "outputs": [
    {
     "name": "stdout",
     "output_type": "stream",
     "text": [
      "Digite 0 para cancelar\n",
      "[1] Candidato A\n",
      "[2] Candidato B\n",
      "[3] Candidato C\n",
      "Finalizando votação\n",
      "Votação: \n",
      "Número de votos do candidato A: 4\n",
      "Número de votos do candidato B: 2\n",
      "Número de votos do candidato C: 6\n"
     ]
    }
   ],
   "source": [
    "candidato_A = 0\n",
    "candidato_B = 0\n",
    "candidato_C = 0\n",
    "\n",
    "print(\"Digite 0 para cancelar\")\n",
    "print(\"[1] Candidato A\")\n",
    "print(\"[2] Candidato B\")\n",
    "print(\"[3] Candidato C\")\n",
    "\n",
    "while True:\n",
    "    voto = int(input(\"Digite o número do candidato: \"))\n",
    "    if voto == 1:\n",
    "        candidato_A += 1\n",
    "    elif voto == 2:\n",
    "        candidato_B += 1    \n",
    "    elif voto == 3:\n",
    "        candidato_C += 1\n",
    "    else:\n",
    "        print(\"Finalizando votação\")\n",
    "        break\n",
    "\n",
    "print(\"Votação: \")\n",
    "print(f\"Número de votos do candidato A: {candidato_A}\")\n",
    "print(f\"Número de votos do candidato B: {candidato_B}\")\n",
    "print(f\"Número de votos do candidato C: {candidato_C}\")"
   ]
  },
  {
   "cell_type": "markdown",
   "id": "6e306453",
   "metadata": {
    "id": "6e306453"
   },
   "source": [
    "#### 10. Faça um programa que calcule o valor total investido por um colecionador em sua coleção de CDs e o valor médio gasto em cada um deles. O usuário deverá informar a quantidade de CDs e o valor para em cada um."
   ]
  },
  {
   "cell_type": "code",
   "execution_count": 2,
   "id": "6b7fa4a2",
   "metadata": {
    "id": "6b7fa4a2"
   },
   "outputs": [
    {
     "name": "stdout",
     "output_type": "stream",
     "text": [
      "Esse foi o valor total investido R$330.00\n",
      "Esse é o valor médio: R$165.00\n"
     ]
    }
   ],
   "source": [
    "quantidade = int(input(\"Quantos CD's você tem? \"))\n",
    "\n",
    "Cds = []\n",
    "while quantidade > 0:\n",
    "    cd = float(input(\"Digite o valor do CD: \"))\n",
    "    Cds.append(cd)\n",
    "    quantidade -= 1\n",
    "\n",
    "print(f\"Esse foi o valor total investido R${sum(Cds):.2f}\")\n",
    "print(f\"Esse é o valor médio: R${sum(Cds)/len(Cds):.2f}\")"
   ]
  },
  {
   "cell_type": "markdown",
   "id": "f19c8d86",
   "metadata": {
    "id": "f19c8d86"
   },
   "source": [
    "#### 11. O Sr. Manoel Joaquim possui uma grande loja de artigos de R\\\\$ 1,99, com cerca de 10 caixas. Para agilizar o cálculo de quanto cada cliente deve pagar ele desenvolveu um tabela que contém o número de itens que o cliente comprou e ao lado o valor da conta. Desta forma a atendente do caixa precisa apenas contar quantos itens o cliente está levando e olhar na tabela de preços. Você foi contratado para desenvolver o programa que monta esta tabela de preços, que conterá os preços de 1 até 50 produtos, conforme o exemplo abaixo:\n",
    "<pre>\n",
    "Lojas Quase Dois - Tabela de preços\n",
    "1 - R$ 1.99\n",
    "2 - R$ 3.98\n",
    "...\n",
    "50 - R$ 99.50\n",
    "</pre>"
   ]
  },
  {
   "cell_type": "code",
   "execution_count": 33,
   "id": "4fc4d54d",
   "metadata": {
    "id": "4fc4d54d"
   },
   "outputs": [
    {
     "name": "stdout",
     "output_type": "stream",
     "text": [
      "QUANTIDADE CAIXAS\t|\tVALOR\n",
      "\t1 CAIXA       \t|\t R$ 1.99\n",
      "\t2 CAIXA       \t|\t R$ 3.98\n",
      "\t3 CAIXA       \t|\t R$ 5.97\n",
      "\t4 CAIXA       \t|\t R$ 7.96\n",
      "\t5 CAIXA       \t|\t R$ 9.95\n",
      "\t6 CAIXA       \t|\t R$ 11.94\n",
      "\t7 CAIXA       \t|\t R$ 13.93\n",
      "\t8 CAIXA       \t|\t R$ 15.92\n",
      "\t9 CAIXA       \t|\t R$ 17.91\n",
      "\t10 CAIXA       \t|\t R$ 19.90\n",
      "\t11 CAIXA       \t|\t R$ 21.89\n",
      "\t12 CAIXA       \t|\t R$ 23.88\n",
      "\t13 CAIXA       \t|\t R$ 25.87\n",
      "\t14 CAIXA       \t|\t R$ 27.86\n",
      "\t15 CAIXA       \t|\t R$ 29.85\n",
      "\t16 CAIXA       \t|\t R$ 31.84\n",
      "\t17 CAIXA       \t|\t R$ 33.83\n",
      "\t18 CAIXA       \t|\t R$ 35.82\n",
      "\t19 CAIXA       \t|\t R$ 37.81\n",
      "\t20 CAIXA       \t|\t R$ 39.80\n",
      "\t21 CAIXA       \t|\t R$ 41.79\n",
      "\t22 CAIXA       \t|\t R$ 43.78\n",
      "\t23 CAIXA       \t|\t R$ 45.77\n",
      "\t24 CAIXA       \t|\t R$ 47.76\n",
      "\t25 CAIXA       \t|\t R$ 49.75\n",
      "\t26 CAIXA       \t|\t R$ 51.74\n",
      "\t27 CAIXA       \t|\t R$ 53.73\n",
      "\t28 CAIXA       \t|\t R$ 55.72\n",
      "\t29 CAIXA       \t|\t R$ 57.71\n",
      "\t30 CAIXA       \t|\t R$ 59.70\n",
      "\t31 CAIXA       \t|\t R$ 61.69\n",
      "\t32 CAIXA       \t|\t R$ 63.68\n",
      "\t33 CAIXA       \t|\t R$ 65.67\n",
      "\t34 CAIXA       \t|\t R$ 67.66\n",
      "\t35 CAIXA       \t|\t R$ 69.65\n",
      "\t36 CAIXA       \t|\t R$ 71.64\n",
      "\t37 CAIXA       \t|\t R$ 73.63\n",
      "\t38 CAIXA       \t|\t R$ 75.62\n",
      "\t39 CAIXA       \t|\t R$ 77.61\n",
      "\t40 CAIXA       \t|\t R$ 79.60\n",
      "\t41 CAIXA       \t|\t R$ 81.59\n",
      "\t42 CAIXA       \t|\t R$ 83.58\n",
      "\t43 CAIXA       \t|\t R$ 85.57\n",
      "\t44 CAIXA       \t|\t R$ 87.56\n",
      "\t45 CAIXA       \t|\t R$ 89.55\n",
      "\t46 CAIXA       \t|\t R$ 91.54\n",
      "\t47 CAIXA       \t|\t R$ 93.53\n",
      "\t48 CAIXA       \t|\t R$ 95.52\n",
      "\t49 CAIXA       \t|\t R$ 97.51\n",
      "\t50 CAIXA       \t|\t R$ 99.50\n"
     ]
    }
   ],
   "source": [
    "print(\"QUANTIDADE CAIXAS\\t|\\tVALOR\")\n",
    "\n",
    "for i in range(50):\n",
    "    print(f\"\\t{i+1} CAIXA       \\t|\\t R$ {(i+1)*1.99:.2f}\")"
   ]
  },
  {
   "cell_type": "markdown",
   "id": "6cd19c52",
   "metadata": {
    "id": "6cd19c52"
   },
   "source": [
    "#### 12. Um funcionário de uma empresa recebe aumento salarial anualmente: Sabe-se que:\n",
    "<pre>\n",
    "Esse funcionário foi contratado em 1995, com salário inicial de R$ 1.000,00;\n",
    "Em 1996 recebeu aumento de 1,5% sobre seu salário inicial;\n",
    "A partir de 1997 (inclusive), os aumentos salariais sempre correspondem ao dobro do percentual do ano anterior. Faça um programa que determine o salário desse funcionário em 2003. \n",
    "</pre>"
   ]
  },
  {
   "cell_type": "code",
   "execution_count": 16,
   "id": "98a4811b",
   "metadata": {
    "id": "98a4811b"
   },
   "outputs": [
    {
     "name": "stdout",
     "output_type": "stream",
     "text": [
      "Salário do ano: 1995  |  Sálario: 1000.00 \n",
      "Salário do ano: 1996  |  Sálario: 1015.00 \n",
      "Salário do ano: 1997  |  Sálario: 1045.45 \n",
      "Salário do ano: 1998  |  Sálario: 1108.18 \n",
      "Salário do ano: 1999  |  Sálario: 1241.16 \n",
      "Salário do ano: 2000  |  Sálario: 1539.04 \n",
      "Salário do ano: 2001  |  Sálario: 2277.77 \n",
      "Salário do ano: 2002  |  Sálario: 4464.44 \n",
      "Salário do ano: 2003  |  Sálario: 13036.15 \n"
     ]
    }
   ],
   "source": [
    "salario_inicial = 1000\n",
    "aumento = 0.015\n",
    "ano_final = 2003\n",
    "ano_calculo = 1995\n",
    "\n",
    "while ano_calculo <= ano_final:\n",
    "    print(f\"Salário do ano: {ano_calculo}  |  Sálario: {salario_inicial:.2f} \")\n",
    "    salario_inicial += salario_inicial*aumento\n",
    "    aumento *= 2 \n",
    "    ano_calculo += 1\n",
    "\n"
   ]
  },
  {
   "cell_type": "markdown",
   "id": "227928d1",
   "metadata": {
    "id": "227928d1"
   },
   "source": [
    "#### 13. O cardápio de uma lanchonete é o seguinte:\n",
    "<pre>\n",
    "Especificação   Código  Preço\n",
    "Cachorro Quente 100     R$ 1,20\n",
    "Bauru Simples   101     R$ 1,30\n",
    "Bauru com ovo   102     R$ 1,50\n",
    "Hambúrguer      103     R$ 1,20\n",
    "Cheeseburguer   104     R$ 1,30\n",
    "Refrigerante    105     R$ 1,00\n",
    "Faça um programa que leia o código dos itens pedidos e as quantidades desejadas. Calcule e mostre o valor a ser pago por item (preço * quantidade) e o total geral do pedido. Considere que o cliente deve informar quando o pedido deve ser encerrado.\n",
    "</pre>"
   ]
  },
  {
   "cell_type": "code",
   "execution_count": null,
   "id": "8a784b86",
   "metadata": {
    "id": "8a784b86"
   },
   "outputs": [],
   "source": [
    "valor_final = 0\n",
    "print(\"caso deseje encerrar digite '0'\")\n",
    "codigo = input('Informe o código do item:')\n",
    "\n",
    "while codigo != \"0\":\n",
    "    qtde = int(input('Informe a quantidade: '))\n",
    "    if codigo == '100':\n",
    "        total += 1.2 * qtde\n",
    "    elif codigo == '101':\n",
    "        total += 1.3 * qtde\n",
    "    elif codigo == '102':\n",
    "        total += 1.5 * qtde\n",
    "    elif codigo == '103':\n",
    "        total += 1.2 * qtde\n",
    "    elif codigo == '104':\n",
    "        total += 1.3 * qtde\n",
    "    elif codigo == '105':\n",
    "        total += 1 * qtde\n",
    "        \n",
    "    codigo = input('Informe o código do item:')\n",
    "\n",
    "print(f'O total é R$ {valor_final}')"
   ]
  },
  {
   "cell_type": "markdown",
   "id": "9877b8ba",
   "metadata": {
    "id": "9877b8ba"
   },
   "source": [
    "#### 14. Uma grande emissora de televisão quer fazer uma enquete entre os seus telespectadores para saber qual o melhor jogador após cada jogo. Para isto, faz-se necessário o desenvolvimento de um programa, que será utilizado pelas telefonistas, para a computação dos votos. Sua equipe foi contratada para desenvolver este programa, utilizando a linguagem de programação Python. Para computar cada voto, a telefonista digitará um número, entre 1 e 23, correspondente ao número da camisa do jogador. Um número de jogador igual zero, indica que a votação foi encerrada. Se um número inválido for digitado, o programa deve ignorá-lo, mostrando uma breve mensagem de aviso, e voltando a pedir outro número. Após o final da votação, o programa deverá exibir:\n",
    "<pre>a. O total de votos computados;\n",
    "b. Os números e respectivos votos de todos os jogadores que receberam votos;\n",
    "c. O percentual de votos de cada um destes jogadores;\n",
    "d. O número do jogador escolhido como o melhor jogador da partida, juntamente com o número de votos e o percentual de votos dados a ele.\n",
    "        Observe que os votos inválidos e o zero final não devem ser computados como votos. O resultado aparece ordenado pelo número do jogador. O programa deve fazer uso de arrays. O programa deverá executar o cálculo do percentual de cada jogador através de uma função. Esta função receberá dois parâmetros: o número de votos de um jogador e o total de votos. A função calculará o percentual e retornará o valor calculado. Abaixo segue uma tela de exemplo. O disposição das informações deve ser o mais próxima possível ao exemplo. Os dados são fictícios e podem mudar a cada execução do programa. Ao final, o programa deve ainda gravar os dados referentes ao resultado da votação em um arquivo texto no disco, obedecendo a mesma disposição apresentada na tela.</pre>\n",
    "```\n",
    "Enquete: Quem foi o melhor jogador?\n",
    "\n",
    "Número do jogador (0=fim): 9\n",
    "Número do jogador (0=fim): 10\n",
    "Número do jogador (0=fim): 9\n",
    "Número do jogador (0=fim): 10\n",
    "Número do jogador (0=fim): 11\n",
    "Número do jogador (0=fim): 10\n",
    "Número do jogador (0=fim): 50\n",
    "Informe um valor entre 1 e 23 ou 0 para sair!\n",
    "Número do jogador (0=fim): 9\n",
    "Número do jogador (0=fim): 9\n",
    "Número do jogador (0=fim): 0\n",
    "\n",
    "Resultado da votação:\n",
    "\n",
    "Foram computados 8 votos.\n",
    "\n",
    "Jogador Votos           %\n",
    "9               4               50,0%\n",
    "10              3               37,5%\n",
    "11              1               12,5%\n",
    "``` "
   ]
  },
  {
   "cell_type": "code",
   "execution_count": 17,
   "id": "79b82364",
   "metadata": {
    "id": "79b82364"
   },
   "outputs": [
    {
     "name": "stdout",
     "output_type": "stream",
     "text": [
      "Enquete: Quem foi o melhor jogador?\n",
      "Informe um valor entre 1 e 23 ou 0 para sair!\n",
      "Foram computados 9 votos.\n",
      "Jogador\tVotos\t%\n",
      "7\t4\t44.4%\n",
      "9\t3\t33.3%\n",
      "19\t2\t22.2%\n",
      "O melhor jogador foi o número 7, com 4 votos, correspondendo a 44% do total de votos.\n"
     ]
    }
   ],
   "source": [
    "votos = []\n",
    "print('Enquete: Quem foi o melhor jogador?')\n",
    "for i in range(23):\n",
    "    votos.append(0)\n",
    "\n",
    "while True:\n",
    "    numero = int(input('Número do jogador (0=fim): '))\n",
    "    if numero == 0:\n",
    "        break\n",
    "    elif not 1 <= numero <= 23:\n",
    "        print('Informe um valor entre 1 e 23 ou 0 para sair!')\n",
    "        continue\n",
    "    votos[numero - 1] += 1\n",
    "\n",
    "total = sum(votos)\n",
    "print('Foram computados', total, 'votos.')\n",
    "print('Jogador\\tVotos\\t%')\n",
    "for i, voto in enumerate(votos):\n",
    "    if voto > 0:\n",
    "        print(f'{i+1}\\t{voto}\\t{voto/total:.1%}')\n",
    "\n",
    "melhor = max(votos)\n",
    "i = votos.index(melhor)\n",
    "porcentagem = melhor/total\n",
    "print(f'O melhor jogador foi o número {i+1}, com {melhor} votos, correspondendo a {porcentagem:.0%} do total de votos.')"
   ]
  }
 ],
 "metadata": {
  "colab": {
   "collapsed_sections": [],
   "provenance": []
  },
  "kernelspec": {
   "display_name": "Python 3",
   "language": "python",
   "name": "python3"
  },
  "language_info": {
   "codemirror_mode": {
    "name": "ipython",
    "version": 3
   },
   "file_extension": ".py",
   "mimetype": "text/x-python",
   "name": "python",
   "nbconvert_exporter": "python",
   "pygments_lexer": "ipython3",
   "version": "3.13.5"
  }
 },
 "nbformat": 4,
 "nbformat_minor": 5
}
