{
 "cells": [
  {
   "cell_type": "markdown",
   "metadata": {},
   "source": [
    "# Exercícios\n",
    "\n",
    "## 1. Calculando % de uma lista\n",
    "\n",
    "Faremos algo parecido com \"filtrar\" uma lista. Mais pra frente no curso aprenderemos outras formas de fazer isso, mas com o nosso conhecimentoa atual já conseguimos resolver o desafio.\n",
    "\n",
    "Digamos que a gente tenha uma lista de vendedores e ao invés de saber todos os vendedores que bateram a meta, eu quero conseguir calcular o % de vendedores que bateram a meta. Ou seja, se temos 10 vendedores e 3 bateram a meta, temos 30% dos vendedores que bateram a meta."
   ]
  },
  {
   "cell_type": "code",
   "execution_count": 11,
   "metadata": {},
   "outputs": [
    {
     "name": "stdout",
     "output_type": "stream",
     "text": [
      "A porcentagem de vendedores que bateram a meta foi de 50%\n",
      "A porcentagem de vendedores que bateram a meta foi de 50%\n"
     ]
    }
   ],
   "source": [
    "meta = 10000\n",
    "vendas = [\n",
    "    ['João', 15000],\n",
    "    ['Julia', 27000],\n",
    "    ['Marcus', 9900],\n",
    "    ['Maria', 3750],\n",
    "    ['Ana', 10300],\n",
    "    ['Alon', 7870],\n",
    "]\n",
    "\n",
    "qtd_meta_batida = 0\n",
    "for vendedor in vendas:\n",
    "    if vendedor[1] > meta:\n",
    "        qtd_meta_batida += 1\n",
    "print(f\"A porcentagem de vendedores que bateram a meta foi de {qtd_meta_batida/len(vendas):.0%}\")\n",
    "\n",
    "lista_vendedores = []\n",
    "for vendedor in vendas:\n",
    "    if vendedor[1] > meta:\n",
    "        lista_vendedores.append(vendedor[0])\n",
    "print(f\"A porcentagem de vendedores que bateram a meta foi de {len(lista_vendedores)/len(vendas):.0%}\")\n"
   ]
  },
  {
   "cell_type": "markdown",
   "metadata": {},
   "source": [
    "- Vamos resolver de 2 formas:\n",
    "    1. Criando uma lista auxiliar apenas com os vendedores que bateram a meta\n",
    "    2. Fazendo o cálculo diretamente na lista que já temos"
   ]
  },
  {
   "cell_type": "markdown",
   "metadata": {},
   "source": [
    "## Para treinar uma estrutura parecida, crie um código para responder: quem foi o vendedor que mais vendeu?"
   ]
  },
  {
   "cell_type": "code",
   "execution_count": 26,
   "metadata": {},
   "outputs": [
    {
     "name": "stdout",
     "output_type": "stream",
     "text": [
      "O(a) melhor vendedor(a) foi Julia com R$27000 vendidos\n"
     ]
    }
   ],
   "source": [
    "melhor_vendedor = [0,0]\n",
    "\n",
    "for vendedor in vendas:\n",
    "    if vendedor[1] > melhor_vendedor[1]:\n",
    "        melhor_vendedor = vendedor\n",
    "print(f\"O(a) melhor vendedor(a) foi {melhor_vendedor[0]} com R${melhor_vendedor[1]} vendidos\")\n"
   ]
  }
 ],
 "metadata": {
  "kernelspec": {
   "display_name": "Python 3",
   "language": "python",
   "name": "python3"
  },
  "language_info": {
   "codemirror_mode": {
    "name": "ipython",
    "version": 3
   },
   "file_extension": ".py",
   "mimetype": "text/x-python",
   "name": "python",
   "nbconvert_exporter": "python",
   "pygments_lexer": "ipython3",
   "version": "3.13.5"
  }
 },
 "nbformat": 4,
 "nbformat_minor": 4
}
