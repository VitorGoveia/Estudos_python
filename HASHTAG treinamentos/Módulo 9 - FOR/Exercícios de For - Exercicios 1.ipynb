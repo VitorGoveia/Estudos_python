{
 "cells": [
  {
   "cell_type": "markdown",
   "metadata": {},
   "source": [
    "# Exercícios\n",
    "\n",
    "## 1. Criando um Registro de Hóspedes\n",
    "\n",
    "Digamos que você está criando o sistema para registrar a chegada de hóspedes em um hotel. No hotel, os hóspedes podem ter quartos com 1, 2, 3 e 4 pessoas. Seu sistema deve conseguir:\n",
    "\n",
    "1. Identificar quantas pessoas o hóspede que acabou de chegar vai ter no quarto (perguntando por meio de input)\n",
    "2. De acordo com a quantidade de pessoas do hóspede, ele deve fazer um for para perguntar o cpf e o nome de cada pessoa, a fim de registrá-la no quarto (2 inputs para cada pessoa, 1 para o cpf e outro para o nome)\n",
    "3. O seu programa então deve gerar uma lista com todas as pessoas que ficarão no quarto em que cada item dessa lista é o nome da pessoa e o cpf da pessoa, assim:"
   ]
  },
  {
   "cell_type": "raw",
   "metadata": {},
   "source": [
    "quarto = [\n",
    "    ['João', 'cpf:00000000000'],\n",
    "    ['Julia', 'cpf:11111111111'],\n",
    "    ['Marcus', 'cpf:22222222222'],\n",
    "    ['Maria', 'cpf:33333333333'],\n",
    "]"
   ]
  },
  {
   "cell_type": "markdown",
   "metadata": {},
   "source": [
    "- Para simplificar, não vamos nos preocupar com possibilidades de \"tentar colocar mais de 1 hóspede, digitar o cpf errado, etc. Nosso objetivo é treinar a criação de uma rotina de cadastro"
   ]
  },
  {
   "cell_type": "code",
   "execution_count": 3,
   "metadata": {},
   "outputs": [
    {
     "name": "stdout",
     "output_type": "stream",
     "text": [
      "Para esse quarto, estão cadastrados os seguintes usuarios: \n",
      "['V', '123']\n",
      "['C', '12']\n"
     ]
    }
   ],
   "source": [
    "quantidade_pessoas = int(input(\"Quantas pessoas vão ficar no quarto? \"))\n",
    "\n",
    "lista_hospedes = []\n",
    "for pessoa in range(quantidade_pessoas):\n",
    "    nome = input(\"Qual o seu nome? \")\n",
    "    cpf = input(f\"{nome}, digite o seu cpf, por gentileza: \")\n",
    "    lista_pessoa = [nome, cpf]\n",
    "\n",
    "    lista_hospedes.append(lista_pessoa)\n",
    "\n",
    "print(\"Para esse quarto, estão cadastrados os seguintes usuarios: \")\n",
    "for pessoa in lista_hospedes:\n",
    "    print(pessoa)\n"
   ]
  },
  {
   "cell_type": "markdown",
   "metadata": {},
   "source": [
    "## 2. Análise de Vendas\n",
    "\n",
    "Nesse exercício vamos fazer uma \"análise simples\" de atingimento de Meta.\n",
    "\n",
    "Temos uma lista com os vendedores e os valores de vendas e queremos identificar (printar) quais os vendedores que bateram a meta e qual foi o valor que eles venderam."
   ]
  },
  {
   "cell_type": "code",
   "execution_count": 4,
   "metadata": {},
   "outputs": [
    {
     "name": "stdout",
     "output_type": "stream",
     "text": [
      "O vendedor João, bateu a meta com uma venda de R$15000.00\n",
      "O vendedor Julia, bateu a meta com uma venda de R$27000.00\n",
      "O vendedor Ana, bateu a meta com uma venda de R$10300.00\n"
     ]
    }
   ],
   "source": [
    "meta = 10000\n",
    "vendas = [\n",
    "    ['João', 15000],\n",
    "    ['Julia', 27000],\n",
    "    ['Marcus', 9900],\n",
    "    ['Maria', 3750],\n",
    "    ['Ana', 10300],\n",
    "    ['Alon', 7870],\n",
    "]\n",
    "\n",
    "\n",
    "for vendedor in vendas:\n",
    "    if vendedor[1] > meta:\n",
    "        print(f\"O vendedor {vendedor[0]}, bateu a meta com uma venda de R${vendedor[1]:.2f}\")"
   ]
  },
  {
   "cell_type": "markdown",
   "metadata": {},
   "source": [
    "## 3. Comparação com Ano Anterior\n",
    "\n",
    "Digamos que você está analisando as vendas de produtos de um ecommerce e quer identificar quais produtos tiveram no ano de 2020 mais vendas do que no ano de 2019, para reportar isso para a diretoria.\n",
    "\n",
    "Sua resposta pode ser um print de cada produto, qual foi a venda de 2019, a venda de 2020 e o % de crescimento de 2020 para 2019.\n",
    "\n",
    "Lembrando, para calcular o % de crescimento de um produto de um ano para o outro, podemos fazer: (vendas_produto2020/vendas_produto2019 - 1)\n",
    "\n",
    "Dica: lembre do enumerate, ele pode facilitar seu \"for\""
   ]
  },
  {
   "cell_type": "code",
   "execution_count": 10,
   "metadata": {},
   "outputs": [
    {
     "name": "stdout",
     "output_type": "stream",
     "text": [
      "O produto iphone, teve um valor de venda de: \n",
      "558147 em 2019\n",
      "951642 em 2020\n",
      "Foi um aumento de 71%\n",
      "\n",
      "\n",
      "O produto tv, teve um valor de venda de: \n",
      "405252 em 2019\n",
      "787604 em 2020\n",
      "Foi um aumento de 94%\n",
      "\n",
      "\n",
      "O produto máquina de café, teve um valor de venda de: \n",
      "718654 em 2019\n",
      "867660 em 2020\n",
      "Foi um aumento de 21%\n",
      "\n",
      "\n",
      "O produto notebook dell, teve um valor de venda de: \n",
      "422760 em 2019\n",
      "694913 em 2020\n",
      "Foi um aumento de 64%\n",
      "\n",
      "\n",
      "O produto notebook hp, teve um valor de venda de: \n",
      "154753 em 2019\n",
      "539704 em 2020\n",
      "Foi um aumento de 249%\n",
      "\n",
      "\n",
      "O produto microsoft surface, teve um valor de venda de: \n",
      "438508 em 2019\n",
      "667179 em 2020\n",
      "Foi um aumento de 52%\n",
      "\n",
      "\n",
      "O produto webcam, teve um valor de venda de: \n",
      "237467 em 2019\n",
      "295633 em 2020\n",
      "Foi um aumento de 24%\n",
      "\n",
      "\n",
      "O produto caixa de som, teve um valor de venda de: \n",
      "489705 em 2019\n",
      "725316 em 2020\n",
      "Foi um aumento de 48%\n",
      "\n",
      "\n",
      "O produto microfone, teve um valor de venda de: \n",
      "328311 em 2019\n",
      "644622 em 2020\n",
      "Foi um aumento de 96%\n",
      "\n",
      "\n",
      "O produto câmera canon, teve um valor de venda de: \n",
      "591120 em 2019\n",
      "994303 em 2020\n",
      "Foi um aumento de 68%\n",
      "\n",
      "\n"
     ]
    }
   ],
   "source": [
    "produtos = ['iphone', 'galaxy', 'ipad', 'tv', 'máquina de café', 'kindle', 'geladeira', 'adega', 'notebook dell', 'notebook hp', 'notebook asus', 'microsoft surface', 'webcam', 'caixa de som', 'microfone', 'câmera canon']\n",
    "vendas2019 = [558147,712350,573823,405252,718654,531580,973139,892292,422760,154753,887061,438508,237467,489705,328311,591120]\n",
    "vendas2020 = [951642,244295,26964,787604,867660,78830,710331,646016,694913,539704,324831,667179,295633,725316,644622,994303]\n",
    "\n",
    "\n",
    "for i, produto in enumerate(produtos):\n",
    "    if vendas2020[i] > vendas2019[i]:\n",
    "        print(f\"O produto {produto}, teve um valor de venda de: \\n{vendas2019[i]} em 2019\\n{vendas2020[i]} em 2020\\nFoi um aumento de {vendas2020[i]/vendas2019[i]-1:.0%}\\n\\n\")"
   ]
  }
 ],
 "metadata": {
  "kernelspec": {
   "display_name": "Python 3",
   "language": "python",
   "name": "python3"
  },
  "language_info": {
   "codemirror_mode": {
    "name": "ipython",
    "version": 3
   },
   "file_extension": ".py",
   "mimetype": "text/x-python",
   "name": "python",
   "nbconvert_exporter": "python",
   "pygments_lexer": "ipython3",
   "version": "3.13.5"
  }
 },
 "nbformat": 4,
 "nbformat_minor": 4
}
